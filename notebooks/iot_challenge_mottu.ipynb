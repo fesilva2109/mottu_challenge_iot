{
 "cells": [
  {
   "cell_type": "code",
   "execution_count": 1,
   "metadata": {
    "colab": {
     "base_uri": "https://localhost:8080/"
    },
    "id": "XmJxGpjt1aCK",
    "outputId": "a3d11e48-3925-4a09-dbe4-9c00e6f18bb5"
   },
   "outputs": [
    {
     "name": "stdout",
     "output_type": "stream",
     "text": [
      "Requirement already satisfied: ultralytics in c:\\users\\labsfiap\\desktop\\mottu_challenge_iot\\motorcycle-detection\\.venv\\lib\\site-packages (8.3.142)\n",
      "Requirement already satisfied: opencv-python in c:\\users\\labsfiap\\desktop\\mottu_challenge_iot\\motorcycle-detection\\.venv\\lib\\site-packages (4.11.0.86)\n",
      "Requirement already satisfied: numpy>=1.23.0 in c:\\users\\labsfiap\\desktop\\mottu_challenge_iot\\motorcycle-detection\\.venv\\lib\\site-packages (from ultralytics) (2.2.6)\n",
      "Requirement already satisfied: matplotlib>=3.3.0 in c:\\users\\labsfiap\\desktop\\mottu_challenge_iot\\motorcycle-detection\\.venv\\lib\\site-packages (from ultralytics) (3.10.3)\n",
      "Requirement already satisfied: pillow>=7.1.2 in c:\\users\\labsfiap\\desktop\\mottu_challenge_iot\\motorcycle-detection\\.venv\\lib\\site-packages (from ultralytics) (11.2.1)\n",
      "Requirement already satisfied: pyyaml>=5.3.1 in c:\\users\\labsfiap\\desktop\\mottu_challenge_iot\\motorcycle-detection\\.venv\\lib\\site-packages (from ultralytics) (6.0.2)\n",
      "Requirement already satisfied: requests>=2.23.0 in c:\\users\\labsfiap\\desktop\\mottu_challenge_iot\\motorcycle-detection\\.venv\\lib\\site-packages (from ultralytics) (2.32.3)\n",
      "Requirement already satisfied: scipy>=1.4.1 in c:\\users\\labsfiap\\desktop\\mottu_challenge_iot\\motorcycle-detection\\.venv\\lib\\site-packages (from ultralytics) (1.15.3)\n",
      "Requirement already satisfied: torch>=1.8.0 in c:\\users\\labsfiap\\desktop\\mottu_challenge_iot\\motorcycle-detection\\.venv\\lib\\site-packages (from ultralytics) (2.7.0)\n",
      "Requirement already satisfied: torchvision>=0.9.0 in c:\\users\\labsfiap\\desktop\\mottu_challenge_iot\\motorcycle-detection\\.venv\\lib\\site-packages (from ultralytics) (0.22.0)\n",
      "Requirement already satisfied: tqdm>=4.64.0 in c:\\users\\labsfiap\\desktop\\mottu_challenge_iot\\motorcycle-detection\\.venv\\lib\\site-packages (from ultralytics) (4.67.1)\n",
      "Requirement already satisfied: psutil in c:\\users\\labsfiap\\desktop\\mottu_challenge_iot\\motorcycle-detection\\.venv\\lib\\site-packages (from ultralytics) (7.0.0)\n",
      "Requirement already satisfied: py-cpuinfo in c:\\users\\labsfiap\\desktop\\mottu_challenge_iot\\motorcycle-detection\\.venv\\lib\\site-packages (from ultralytics) (9.0.0)\n",
      "Requirement already satisfied: pandas>=1.1.4 in c:\\users\\labsfiap\\desktop\\mottu_challenge_iot\\motorcycle-detection\\.venv\\lib\\site-packages (from ultralytics) (2.2.3)\n",
      "Requirement already satisfied: ultralytics-thop>=2.0.0 in c:\\users\\labsfiap\\desktop\\mottu_challenge_iot\\motorcycle-detection\\.venv\\lib\\site-packages (from ultralytics) (2.0.14)\n",
      "Requirement already satisfied: contourpy>=1.0.1 in c:\\users\\labsfiap\\desktop\\mottu_challenge_iot\\motorcycle-detection\\.venv\\lib\\site-packages (from matplotlib>=3.3.0->ultralytics) (1.3.2)\n",
      "Requirement already satisfied: cycler>=0.10 in c:\\users\\labsfiap\\desktop\\mottu_challenge_iot\\motorcycle-detection\\.venv\\lib\\site-packages (from matplotlib>=3.3.0->ultralytics) (0.12.1)\n",
      "Requirement already satisfied: fonttools>=4.22.0 in c:\\users\\labsfiap\\desktop\\mottu_challenge_iot\\motorcycle-detection\\.venv\\lib\\site-packages (from matplotlib>=3.3.0->ultralytics) (4.58.0)\n",
      "Requirement already satisfied: kiwisolver>=1.3.1 in c:\\users\\labsfiap\\desktop\\mottu_challenge_iot\\motorcycle-detection\\.venv\\lib\\site-packages (from matplotlib>=3.3.0->ultralytics) (1.4.8)\n",
      "Requirement already satisfied: packaging>=20.0 in c:\\users\\labsfiap\\desktop\\mottu_challenge_iot\\motorcycle-detection\\.venv\\lib\\site-packages (from matplotlib>=3.3.0->ultralytics) (25.0)\n",
      "Requirement already satisfied: pyparsing>=2.3.1 in c:\\users\\labsfiap\\desktop\\mottu_challenge_iot\\motorcycle-detection\\.venv\\lib\\site-packages (from matplotlib>=3.3.0->ultralytics) (3.2.3)\n",
      "Requirement already satisfied: python-dateutil>=2.7 in c:\\users\\labsfiap\\desktop\\mottu_challenge_iot\\motorcycle-detection\\.venv\\lib\\site-packages (from matplotlib>=3.3.0->ultralytics) (2.9.0.post0)\n",
      "Requirement already satisfied: pytz>=2020.1 in c:\\users\\labsfiap\\desktop\\mottu_challenge_iot\\motorcycle-detection\\.venv\\lib\\site-packages (from pandas>=1.1.4->ultralytics) (2025.2)\n",
      "Requirement already satisfied: tzdata>=2022.7 in c:\\users\\labsfiap\\desktop\\mottu_challenge_iot\\motorcycle-detection\\.venv\\lib\\site-packages (from pandas>=1.1.4->ultralytics) (2025.2)\n",
      "Requirement already satisfied: charset-normalizer<4,>=2 in c:\\users\\labsfiap\\desktop\\mottu_challenge_iot\\motorcycle-detection\\.venv\\lib\\site-packages (from requests>=2.23.0->ultralytics) (3.4.2)\n",
      "Requirement already satisfied: idna<4,>=2.5 in c:\\users\\labsfiap\\desktop\\mottu_challenge_iot\\motorcycle-detection\\.venv\\lib\\site-packages (from requests>=2.23.0->ultralytics) (3.10)\n",
      "Requirement already satisfied: urllib3<3,>=1.21.1 in c:\\users\\labsfiap\\desktop\\mottu_challenge_iot\\motorcycle-detection\\.venv\\lib\\site-packages (from requests>=2.23.0->ultralytics) (2.4.0)\n",
      "Requirement already satisfied: certifi>=2017.4.17 in c:\\users\\labsfiap\\desktop\\mottu_challenge_iot\\motorcycle-detection\\.venv\\lib\\site-packages (from requests>=2.23.0->ultralytics) (2025.4.26)\n",
      "Requirement already satisfied: filelock in c:\\users\\labsfiap\\desktop\\mottu_challenge_iot\\motorcycle-detection\\.venv\\lib\\site-packages (from torch>=1.8.0->ultralytics) (3.18.0)\n",
      "Requirement already satisfied: typing-extensions>=4.10.0 in c:\\users\\labsfiap\\desktop\\mottu_challenge_iot\\motorcycle-detection\\.venv\\lib\\site-packages (from torch>=1.8.0->ultralytics) (4.13.2)\n",
      "Requirement already satisfied: sympy>=1.13.3 in c:\\users\\labsfiap\\desktop\\mottu_challenge_iot\\motorcycle-detection\\.venv\\lib\\site-packages (from torch>=1.8.0->ultralytics) (1.14.0)\n",
      "Requirement already satisfied: networkx in c:\\users\\labsfiap\\desktop\\mottu_challenge_iot\\motorcycle-detection\\.venv\\lib\\site-packages (from torch>=1.8.0->ultralytics) (3.4.2)\n",
      "Requirement already satisfied: jinja2 in c:\\users\\labsfiap\\desktop\\mottu_challenge_iot\\motorcycle-detection\\.venv\\lib\\site-packages (from torch>=1.8.0->ultralytics) (3.1.6)\n",
      "Requirement already satisfied: fsspec in c:\\users\\labsfiap\\desktop\\mottu_challenge_iot\\motorcycle-detection\\.venv\\lib\\site-packages (from torch>=1.8.0->ultralytics) (2025.5.0)\n",
      "Requirement already satisfied: setuptools in c:\\users\\labsfiap\\desktop\\mottu_challenge_iot\\motorcycle-detection\\.venv\\lib\\site-packages (from torch>=1.8.0->ultralytics) (80.8.0)\n",
      "Requirement already satisfied: colorama in c:\\users\\labsfiap\\desktop\\mottu_challenge_iot\\motorcycle-detection\\.venv\\lib\\site-packages (from tqdm>=4.64.0->ultralytics) (0.4.6)\n",
      "Requirement already satisfied: six>=1.5 in c:\\users\\labsfiap\\desktop\\mottu_challenge_iot\\motorcycle-detection\\.venv\\lib\\site-packages (from python-dateutil>=2.7->matplotlib>=3.3.0->ultralytics) (1.17.0)\n",
      "Requirement already satisfied: mpmath<1.4,>=1.1.0 in c:\\users\\labsfiap\\desktop\\mottu_challenge_iot\\motorcycle-detection\\.venv\\lib\\site-packages (from sympy>=1.13.3->torch>=1.8.0->ultralytics) (1.3.0)\n",
      "Requirement already satisfied: MarkupSafe>=2.0 in c:\\users\\labsfiap\\desktop\\mottu_challenge_iot\\motorcycle-detection\\.venv\\lib\\site-packages (from jinja2->torch>=1.8.0->ultralytics) (3.0.2)\n"
     ]
    },
    {
     "name": "stderr",
     "output_type": "stream",
     "text": [
      "\n",
      "[notice] A new release of pip is available: 24.0 -> 25.1.1\n",
      "[notice] To update, run: python.exe -m pip install --upgrade pip\n"
     ]
    }
   ],
   "source": [
    "!pip install ultralytics opencv-python\n"
   ]
  },
  {
   "cell_type": "code",
   "execution_count": 2,
   "metadata": {
    "colab": {
     "base_uri": "https://localhost:8080/",
     "height": 850
    },
    "id": "jY4w3mrJvmPw",
    "outputId": "ac219a48-ec13-41d0-8c84-dc0095b3432b"
   },
   "outputs": [
    {
     "name": "stdout",
     "output_type": "stream",
     "text": [
      "\n",
      "0: 640x640 10 motorcycles, 347.1ms\n",
      "Speed: 2.5ms preprocess, 347.1ms inference, 0.8ms postprocess per image at shape (1, 3, 640, 640)\n",
      "Imagem anotada salva em: /imagens\\output_0.jpg\n"
     ]
    }
   ],
   "source": [
    "\n",
    "from ultralytics import YOLO\n",
    "import cv2\n",
    "import os\n",
    "\n",
    "# Carregar modelo mais preciso\n",
    "model = YOLO('yolov8x.pt')\n",
    "\n",
    "# Caminho da imagem\n",
    "image_path = os.path.join('..','imagens', 'patio1.jpg')\n",
    "image = cv2.imread(image_path)\n",
    "\n",
    "# Rodar detecção\n",
    "results = model(image, conf=0.5)\n",
    "\n",
    "# Salvar imagem anotada com as detecções\n",
    "\n",
    "output_dir = os.path.join('imagens')  \n",
    "os.makedirs(output_dir, exist_ok=True)\n",
    "\n",
    "# Salvar resultados\n",
    "for i, r in enumerate(results):\n",
    "    annotated_frame = r.plot() \n",
    "    output_path = os.path.join(output_dir, f'output_{i}.jpg')\n",
    "    cv2.imwrite(output_path, annotated_frame)\n",
    "    print(f\"Imagem anotada salva em: {output_path}\")"
   ]
  },
  {
   "cell_type": "code",
   "execution_count": null,
   "metadata": {},
   "outputs": [],
   "source": []
  }
 ],
 "metadata": {
  "colab": {
   "provenance": []
  },
  "kernelspec": {
   "display_name": "Python 3",
   "name": "python3"
  },
  "language_info": {
   "codemirror_mode": {
    "name": "ipython",
    "version": 3
   },
   "file_extension": ".py",
   "mimetype": "text/x-python",
   "name": "python",
   "nbconvert_exporter": "python",
   "pygments_lexer": "ipython3",
   "version": "3.12.3"
  }
 },
 "nbformat": 4,
 "nbformat_minor": 0
}
